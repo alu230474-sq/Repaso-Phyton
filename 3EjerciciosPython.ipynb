{
  "nbformat": 4,
  "nbformat_minor": 0,
  "metadata": {
    "colab": {
      "provenance": [],
      "authorship_tag": "ABX9TyOUEWldZTL9tlDvvJNl6Cca",
      "include_colab_link": true
    },
    "kernelspec": {
      "name": "python3",
      "display_name": "Python 3"
    },
    "language_info": {
      "name": "python"
    }
  },
  "cells": [
    {
      "cell_type": "markdown",
      "metadata": {
        "id": "view-in-github",
        "colab_type": "text"
      },
      "source": [
        "<a href=\"https://colab.research.google.com/github/alu230474-sq/Repaso-Phyton/blob/main/3EjerciciosPython.ipynb\" target=\"_parent\"><img src=\"https://colab.research.google.com/assets/colab-badge.svg\" alt=\"Open In Colab\"/></a>"
      ]
    },
    {
      "cell_type": "code",
      "execution_count": null,
      "metadata": {
        "id": "U5U9PHFW5LLP"
      },
      "outputs": [],
      "source": []
    },
    {
      "cell_type": "markdown",
      "source": [
        "Eercicios a desarrollar en Colab con GitHub:\n",
        "\n",
        "1. Realizar un programa en Python que permita capturar 2 numeros enteros e imprima la suma, resta, multiplicacion y division.\n",
        "\n",
        "2. Realizar un programa en Python mediante el cual calcules el total de caracteres que tiene un nombre capturado desde el teclado.\n",
        "\n",
        "3. Realizar un programa en Python que permita imprimir los 7 dias de la semana."
      ],
      "metadata": {
        "id": "fL0efcVO5P74"
      }
    },
    {
      "cell_type": "code",
      "source": [
        "n1 = int(input(\"Ingresa el numero 1 \"))\n",
        "n2 = int(input(\"Ingresa el numero 2 \"))\n",
        "print (\"La suma es\")\n",
        "print (n1 + n2)\n",
        "print (\"La resta es\")\n",
        "print (n1 - n2)\n",
        "print (\"La multiplicacion es\")\n",
        "print (n1 * n2)\n",
        "print (\"La division es\")\n",
        "print (n1 / n2)"
      ],
      "metadata": {
        "colab": {
          "base_uri": "https://localhost:8080/"
        },
        "id": "_330V0P5830m",
        "outputId": "784159f2-48f1-4597-83bd-7a2f6de75b74"
      },
      "execution_count": 8,
      "outputs": [
        {
          "output_type": "stream",
          "name": "stdout",
          "text": [
            "Ingresa el numero 1 4\n",
            "Ingresa el numero 2 8\n",
            "La suma es\n",
            "12\n",
            "La resta es\n",
            "-4\n",
            "La multiplicacion es\n",
            "32\n",
            "La division es\n",
            "0.5\n"
          ]
        }
      ]
    },
    {
      "cell_type": "code",
      "source": [
        "nombre = input(\"Ingresa tu nombre \")\n",
        "total=len(nombre)\n",
        "print(\"El total de caracteres es \", total)"
      ],
      "metadata": {
        "colab": {
          "base_uri": "https://localhost:8080/"
        },
        "id": "42T67ksg_RiF",
        "outputId": "edac5375-fd2e-4b00-b20c-e2b2a249b6bc"
      },
      "execution_count": 10,
      "outputs": [
        {
          "output_type": "stream",
          "name": "stdout",
          "text": [
            "Ingresa tu nombre Valentin\n",
            "El total de caracteres es  8\n"
          ]
        }
      ]
    },
    {
      "cell_type": "code",
      "source": [
        "sem = (\"Lunes,Martes,Miercoles,Jueves,Viernes,Sabado,Domingo\")\n",
        "print(sem)"
      ],
      "metadata": {
        "colab": {
          "base_uri": "https://localhost:8080/"
        },
        "id": "tssAtPf3_s51",
        "outputId": "9bc044c0-ae60-4aed-e762-a5230fd727e3"
      },
      "execution_count": 11,
      "outputs": [
        {
          "output_type": "stream",
          "name": "stdout",
          "text": [
            "Lunes,Martes,Miercoles,Jueves,Viernes,Sabado,Domingo\n"
          ]
        }
      ]
    }
  ]
}