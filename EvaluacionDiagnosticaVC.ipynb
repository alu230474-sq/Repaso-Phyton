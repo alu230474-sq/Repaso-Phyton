{
  "nbformat": 4,
  "nbformat_minor": 0,
  "metadata": {
    "colab": {
      "provenance": [],
      "authorship_tag": "ABX9TyPFZZsYdvTyFODtGw5B5KWu",
      "include_colab_link": true
    },
    "kernelspec": {
      "name": "python3",
      "display_name": "Python 3"
    },
    "language_info": {
      "name": "python"
    }
  },
  "cells": [
    {
      "cell_type": "markdown",
      "metadata": {
        "id": "view-in-github",
        "colab_type": "text"
      },
      "source": [
        "<a href=\"https://colab.research.google.com/github/alu230474-sq/Repaso-Phyton/blob/main/EvaluacionDiagnosticaVC.ipynb\" target=\"_parent\"><img src=\"https://colab.research.google.com/assets/colab-badge.svg\" alt=\"Open In Colab\"/></a>"
      ]
    },
    {
      "cell_type": "code",
      "source": [
        "Codigo 1. Imprimir nombre, paterno y materno del alumno."
      ],
      "metadata": {
        "id": "pKe6Vbn05i9H"
      },
      "execution_count": null,
      "outputs": []
    },
    {
      "cell_type": "code",
      "source": [
        "nombre = input(\"Ingresa tu nombre \")\n",
        "p = input(\"Ingresa tu apellido paterno \")\n",
        "m = input(\"Ingresa tu apellido materno \")\n",
        "\n",
        "completo = nombre + \" \" + p + \" \" + m\n",
        "print(completo)"
      ],
      "metadata": {
        "colab": {
          "base_uri": "https://localhost:8080/"
        },
        "id": "LSYTUp8k1CPc",
        "outputId": "09ae7291-870a-490f-b45f-a06fa747c21c"
      },
      "execution_count": 2,
      "outputs": [
        {
          "output_type": "stream",
          "name": "stdout",
          "text": [
            "Ingresa tu nombre Valentin\n",
            "Ingresa tu apellido paterno Castruita\n",
            "Ingresa tu apellido materno Garcia\n",
            "Valentin Castruita Garcia\n"
          ]
        }
      ]
    },
    {
      "cell_type": "markdown",
      "source": [
        "Codigo 2. Capturar 2 números decimales e imprimir la suma."
      ],
      "metadata": {
        "id": "uPd30JqM1ttA"
      }
    },
    {
      "cell_type": "code",
      "source": [
        "n1 = float(input(\"Ingresa el primer numero decimal \"))\n",
        "n2 = float(input(\"Ingresa el segundo numero decimal \"))\n",
        "suma = n1 + n2\n",
        "print(\"La suma es \" + str(suma))"
      ],
      "metadata": {
        "colab": {
          "base_uri": "https://localhost:8080/"
        },
        "id": "bbZBFenf12nh",
        "outputId": "da8a919d-7ae5-42bb-c4a1-4dfed34db1f2"
      },
      "execution_count": 14,
      "outputs": [
        {
          "output_type": "stream",
          "name": "stdout",
          "text": [
            "Ingresa el primer numero decimal 2.6\n",
            "Ingresa el segundo numero decimal 4.5\n",
            "La suma es 7.1\n"
          ]
        }
      ]
    },
    {
      "cell_type": "markdown",
      "source": [
        "Codigo 3. Calcular el área de un círculo"
      ],
      "metadata": {
        "id": "c72h88qJ2hmG"
      }
    },
    {
      "cell_type": "code",
      "source": [
        "radio = float(input(\"Ingresa el radio del circulo \"))\n",
        "area = 3.1416 * radio ** 2\n",
        "print (\"El area del circulo es \" + str(area))"
      ],
      "metadata": {
        "colab": {
          "base_uri": "https://localhost:8080/"
        },
        "id": "9qjmYwOq2l_O",
        "outputId": "533988a7-9c49-4dc1-c1a4-1abbe4dc64e2"
      },
      "execution_count": 17,
      "outputs": [
        {
          "output_type": "stream",
          "name": "stdout",
          "text": [
            "Ingresa el radio del circulo 5\n",
            "El area del circulo es 78.53999999999999\n"
          ]
        }
      ]
    },
    {
      "cell_type": "markdown",
      "source": [
        "Cosigo 4. Ejemplo de código y ventana resultante de semestre pasado."
      ],
      "metadata": {
        "id": "9CC_hccp5wgv"
      }
    },
    {
      "cell_type": "code",
      "source": [
        "db.carros.find ({modelo:\"taurus\"})\n",
        "db.carros.find ({nocarros:55})\n",
        "db.carros.find ({marca:\"fiat\"})\n",
        "db.carros.find ({color:\"azul\"})\n",
        "db.carros.find ({modelo:\"mustang\"})\n",
        "db.carros.find ({nocarro:53})\n",
        "db.carros.find ({modelo:\"MOBT\"})"
      ],
      "metadata": {
        "id": "nKUtXoDW53Fn"
      },
      "execution_count": null,
      "outputs": []
    }
  ]
}