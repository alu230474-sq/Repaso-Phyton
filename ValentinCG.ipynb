{
  "nbformat": 4,
  "nbformat_minor": 0,
  "metadata": {
    "colab": {
      "provenance": [],
      "authorship_tag": "ABX9TyMSU6FIIHk1fBLCwmg80RtE",
      "include_colab_link": true
    },
    "kernelspec": {
      "name": "python3",
      "display_name": "Python 3"
    },
    "language_info": {
      "name": "python"
    }
  },
  "cells": [
    {
      "cell_type": "markdown",
      "metadata": {
        "id": "view-in-github",
        "colab_type": "text"
      },
      "source": [
        "<a href=\"https://colab.research.google.com/github/alu230474-sq/Repaso-Phyton/blob/main/ValentinCG.ipynb\" target=\"_parent\"><img src=\"https://colab.research.google.com/assets/colab-badge.svg\" alt=\"Open In Colab\"/></a>"
      ]
    },
    {
      "cell_type": "code",
      "execution_count": null,
      "metadata": {
        "id": "4imubwImz6I6"
      },
      "outputs": [],
      "source": [
        "Programa 1 en Python para imprimir mi nombre con hola mundo"
      ]
    },
    {
      "cell_type": "code",
      "source": [
        "print (\"Hola Mundo\")\n",
        "nombre=(input(\"Captura tu nombre\"))\n",
        "print (nombre)"
      ],
      "metadata": {
        "colab": {
          "base_uri": "https://localhost:8080/"
        },
        "id": "dpzaZeFa0VAb",
        "outputId": "6985e4b2-9e8c-4369-fba0-5f4dda532be7"
      },
      "execution_count": 1,
      "outputs": [
        {
          "output_type": "stream",
          "name": "stdout",
          "text": [
            "Hola Mundo\n",
            "Captura tu nombreValentin\n",
            "Valentin\n"
          ]
        }
      ]
    },
    {
      "cell_type": "markdown",
      "source": [
        "Programa 2 Capturar tu nombre, paterno y materno e imprimirlo en la pantalla"
      ],
      "metadata": {
        "id": "U3yi2izl1fp2"
      }
    },
    {
      "cell_type": "code",
      "source": [
        "\n",
        "print(\"Ingresa tu nombre completo \")\n",
        "n = (input(\"Ingresa tu  nombre\"))\n",
        "p = (input(\"Ingresa tu apellido paterno\"))\n",
        "m = (input(\"Ingresa tu materno\"))\n",
        "print (n+p+m)"
      ],
      "metadata": {
        "colab": {
          "base_uri": "https://localhost:8080/"
        },
        "id": "HG1jNSVJ1seL",
        "outputId": "ba0841f5-4732-431a-e305-cd4aba4680aa"
      },
      "execution_count": 4,
      "outputs": [
        {
          "output_type": "stream",
          "name": "stdout",
          "text": [
            "Ingresa tu nombre completo \n",
            "Ingresa tu  nombrey\n",
            "Ingresa tu apellido paternog\n",
            "Ingresa tu maternom\n",
            "ygm\n"
          ]
        }
      ]
    },
    {
      "cell_type": "markdown",
      "source": [],
      "metadata": {
        "id": "flV-GBY42EFD"
      }
    },
    {
      "cell_type": "code",
      "source": [],
      "metadata": {
        "id": "BWMXamMt13xM"
      },
      "execution_count": null,
      "outputs": []
    }
  ]
}